{
 "cells": [
  {
   "cell_type": "code",
   "execution_count": 1,
   "id": "3d1a2146",
   "metadata": {},
   "outputs": [
    {
     "ename": "ModuleNotFoundError",
     "evalue": "No module named 'sklearn'",
     "output_type": "error",
     "traceback": [
      "\u001b[1;31m---------------------------------------------------------------------------\u001b[0m",
      "\u001b[1;31mModuleNotFoundError\u001b[0m                       Traceback (most recent call last)",
      "Cell \u001b[1;32mIn[1], line 2\u001b[0m\n\u001b[0;32m      1\u001b[0m \u001b[39m#\tKmeans \t\u001b[39;00m\n\u001b[1;32m----> 2\u001b[0m \u001b[39mfrom\u001b[39;00m \u001b[39msklearn\u001b[39;00m \u001b[39mimport\u001b[39;00m datasets \n\u001b[0;32m      3\u001b[0m \u001b[39mfrom\u001b[39;00m \u001b[39msklearn\u001b[39;00m \u001b[39mimport\u001b[39;00m metrics\n\u001b[0;32m      4\u001b[0m \u001b[39mfrom\u001b[39;00m \u001b[39msklearn\u001b[39;00m\u001b[39m.\u001b[39;00m\u001b[39mcluster\u001b[39;00m \u001b[39mimport\u001b[39;00m KMeans\n",
      "\u001b[1;31mModuleNotFoundError\u001b[0m: No module named 'sklearn'"
     ]
    }
   ],
   "source": [
    "#\tKmeans \t\n",
    "from sklearn import datasets \n",
    "from sklearn import metrics\n",
    "from sklearn.cluster import KMeans\n",
    "from sklearn.model_selection import train_test_split\n",
    "\n",
    "iris = datasets.load_iris() \n",
    "print(iris)\n",
    "X_train,X_test,y_train,y_test = train_test_split(iris.data,iris.target) \n",
    "model =KMeans(n_clusters=3)\n",
    "model.fit(X_train,y_train) \n",
    "model.score\n",
    "print('K-Mean: ',metrics.accuracy_score(y_test,model.predict(X_test)))\n",
    "\n",
    "#-------Expectation and Maximization----------\n",
    "from sklearn.mixture import GaussianMixture \n",
    "model2 = GaussianMixture(n_components=3) \n",
    "model2.fit(X_train,y_train)\n",
    "model2.score\n",
    "print('EM Algorithm:',metrics.accuracy_score(y_test,model2.predict(X_test)))"
   ]
  },
  {
   "cell_type": "code",
   "execution_count": null,
   "id": "79d42efc",
   "metadata": {},
   "outputs": [],
   "source": []
  }
 ],
 "metadata": {
  "kernelspec": {
   "display_name": "Python 3",
   "language": "python",
   "name": "python3"
  },
  "language_info": {
   "codemirror_mode": {
    "name": "ipython",
    "version": 3
   },
   "file_extension": ".py",
   "mimetype": "text/x-python",
   "name": "python",
   "nbconvert_exporter": "python",
   "pygments_lexer": "ipython3",
   "version": "3.10.7"
  },
  "vscode": {
   "interpreter": {
    "hash": "da69b0223f5ec2fa3002aba81a40c21a07de2ed8052824faa4c545e316506002"
   }
  }
 },
 "nbformat": 4,
 "nbformat_minor": 5
}
