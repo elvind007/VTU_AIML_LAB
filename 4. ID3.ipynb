{
 "cells": [
  {
   "cell_type": "code",
   "execution_count": null,
   "id": "332c1439",
   "metadata": {},
   "outputs": [],
   "source": [
    "from sklearn.tree import DecisionTreeClassifier\n",
    "import pandas as pd\n",
    "from sklearn.preprocessing import OneHotEncoder\n",
    "from sklearn import tree\n",
    "import matplotlib.pyplot as plt\n",
    "import numpy as np\n",
    "\n",
    "train_data = pd.read_csv(\"data3.csv\")\n",
    "test_data = pd.read_csv(\"data3_test.csv\")\n",
    "\n",
    "encoder = OneHotEncoder()\n",
    "X_train = encoder.fit_transform(train_data.drop(\"Answer\", axis=1))\n",
    "X_test = encoder.transform(test_data)\n",
    "y_train = train_data[\"Answer\"]\n",
    "\n",
    "\n",
    "\n",
    "clf = DecisionTreeClassifier(criterion=\"entropy\", random_state=1234)\n",
    "clf.fit(X_train, y_train)\n",
    "\n",
    "plt.figure(figsize=(7,7))\n",
    "\n",
    "\n",
    "#Delete these below after first execution\n",
    "fn = [str(i) for i in range(10)]\n",
    "fn[0] = \"Outlook_overcast\"\n",
    "fn[6] = \"Outlook_sunny\"\n",
    "fn[1] = \"Outlook_Rain\"\n",
    "fn[8] = \"Sunny_Humidity\"\n",
    "fn[2] = \"Humidity_High\"\n",
    "fn[9] = \"Wind_Strong\"\n",
    "#upto hereSfn[8] = \"Humidity\"\n",
    "\n",
    "tree.plot_tree(clf,feature_names=fn,  class_names=['NO','YES'], filled = True )\n",
    "\n",
    "\n",
    "predictions = clf.predict(X_test)\n",
    "l = np.array(test_data)\n",
    "print(\"Predicting test dataset\")\n",
    "for i in range(2):\n",
    "    print(l[i], \"Predicted:\", predictions[i])\n"
   ]
  },
  {
   "cell_type": "code",
   "execution_count": null,
   "id": "f5e0af9b",
   "metadata": {},
   "outputs": [],
   "source": []
  },
  {
   "cell_type": "code",
   "execution_count": null,
   "id": "e2c13cbe",
   "metadata": {},
   "outputs": [],
   "source": []
  }
 ],
 "metadata": {
  "kernelspec": {
   "display_name": "Python 3",
   "language": "python",
   "name": "python3"
  },
  "language_info": {
   "codemirror_mode": {
    "name": "ipython",
    "version": 3
   },
   "file_extension": ".py",
   "mimetype": "text/x-python",
   "name": "python",
   "nbconvert_exporter": "python",
   "pygments_lexer": "ipython3",
   "version": "3.10.7 (tags/v3.10.7:6cc6b13, Sep  5 2022, 14:08:36) [MSC v.1933 64 bit (AMD64)]"
  },
  "vscode": {
   "interpreter": {
    "hash": "da69b0223f5ec2fa3002aba81a40c21a07de2ed8052824faa4c545e316506002"
   }
  }
 },
 "nbformat": 4,
 "nbformat_minor": 5
}
