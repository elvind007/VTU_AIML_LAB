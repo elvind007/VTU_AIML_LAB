{
 "cells": [
  {
   "cell_type": "code",
   "execution_count": 1,
   "id": "df36cd24",
   "metadata": {},
   "outputs": [
    {
     "name": "stdout",
     "output_type": "stream",
     "text": [
      "Iris Data set loaded...\n",
      "Label 0 - setosa\n",
      "Label 1 - versicolor\n",
      "Label 2 - virginica\n",
      "Results of Classification using K-nn with K=5 \n",
      " Sample: [5.8 2.6 4.  1.2]  Actual-label: 1  Predicted-label: 1\n",
      "Classification Accuracy : 1.0\n",
      " Sample: [5.7 2.5 5.  2. ]  Actual-label: 2  Predicted-label: 2\n",
      "Classification Accuracy : 1.0\n",
      " Sample: [5.5 3.5 1.3 0.2]  Actual-label: 0  Predicted-label: 0\n",
      "Classification Accuracy : 1.0\n",
      " Sample: [5.4 3.9 1.7 0.4]  Actual-label: 0  Predicted-label: 0\n",
      "Classification Accuracy : 1.0\n",
      " Sample: [5.9 3.  4.2 1.5]  Actual-label: 1  Predicted-label: 1\n",
      "Classification Accuracy : 1.0\n",
      " Sample: [6.4 3.1 5.5 1.8]  Actual-label: 2  Predicted-label: 2\n",
      "Classification Accuracy : 1.0\n",
      " Sample: [5.5 2.4 3.8 1.1]  Actual-label: 1  Predicted-label: 1\n",
      "Classification Accuracy : 1.0\n",
      " Sample: [5.5 4.2 1.4 0.2]  Actual-label: 0  Predicted-label: 0\n",
      "Classification Accuracy : 1.0\n",
      " Sample: [4.9 3.6 1.4 0.1]  Actual-label: 0  Predicted-label: 0\n",
      "Classification Accuracy : 1.0\n",
      " Sample: [4.8 3.  1.4 0.3]  Actual-label: 0  Predicted-label: 0\n",
      "Classification Accuracy : 1.0\n",
      " Sample: [5.1 3.8 1.5 0.3]  Actual-label: 0  Predicted-label: 0\n",
      "Classification Accuracy : 1.0\n",
      " Sample: [6.1 3.  4.6 1.4]  Actual-label: 1  Predicted-label: 1\n",
      "Classification Accuracy : 1.0\n",
      " Sample: [5.7 3.  4.2 1.2]  Actual-label: 1  Predicted-label: 1\n",
      "Classification Accuracy : 1.0\n",
      " Sample: [5.  3.6 1.4 0.2]  Actual-label: 0  Predicted-label: 0\n",
      "Classification Accuracy : 1.0\n",
      " Sample: [6.9 3.1 4.9 1.5]  Actual-label: 1  Predicted-label: 1\n",
      "Classification Accuracy : 1.0\n"
     ]
    }
   ],
   "source": [
    "from sklearn.model_selection import train_test_split \n",
    "from sklearn.neighbors import KNeighborsClassifier \n",
    "from sklearn import datasets\n",
    "iris=datasets.load_iris() \n",
    "print(\"Iris Data set loaded...\")\n",
    "x_train, x_test, y_train, y_test = train_test_split(iris.data,iris.target,test_size=0.1)\n",
    "#random_state=0\n",
    "for i in range(len(iris.target_names)):\n",
    "    print(\"Label\", i , \"-\",str(iris.target_names[i]))\n",
    "classifier = KNeighborsClassifier(n_neighbors=5)\n",
    "classifier.fit(x_train, y_train)\n",
    "y_pred=classifier.predict(x_test)\n",
    "print(\"Results of Classification using K-nn with K=5 \") \n",
    "for r in range(0,len(x_test)):\n",
    "    print(\" Sample:\", str(x_test[r]), \" Actual-label:\", str(y_test[r]),\" Predicted-label:\", str(y_pred[r]))\n",
    "\n",
    "    print(\"Classification Accuracy :\" , classifier.score(x_test,y_test));\n"
   ]
  },
  {
   "cell_type": "code",
   "execution_count": null,
   "id": "3c98c5f0",
   "metadata": {},
   "outputs": [],
   "source": []
  },
  {
   "cell_type": "code",
   "execution_count": null,
   "id": "f6c6d09d",
   "metadata": {},
   "outputs": [],
   "source": []
  }
 ],
 "metadata": {
  "kernelspec": {
   "display_name": "Python 3",
   "language": "python",
   "name": "python3"
  },
  "language_info": {
   "codemirror_mode": {
    "name": "ipython",
    "version": 3
   },
   "file_extension": ".py",
   "mimetype": "text/x-python",
   "name": "python",
   "nbconvert_exporter": "python",
   "pygments_lexer": "ipython3",
   "version": "3.10.7"
  },
  "vscode": {
   "interpreter": {
    "hash": "da69b0223f5ec2fa3002aba81a40c21a07de2ed8052824faa4c545e316506002"
   }
  }
 },
 "nbformat": 4,
 "nbformat_minor": 5
}
