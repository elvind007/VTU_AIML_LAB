{
 "cells": [
  {
   "cell_type": "code",
   "execution_count": null,
   "id": "ed9b2665",
   "metadata": {},
   "outputs": [],
   "source": [
    "import pandas as pd\n",
    "data=pd.read_csv('diabetes.csv')\n",
    "from sklearn.model_selection import train_test_split\n",
    "x=data.drop('Outcome',axis=1)\n",
    "y=data[['Outcome']]\n",
    "from sklearn.naive_bayes import GaussianNB\n",
    "model=GaussianNB()\n",
    "model.fit(x_train,y_train)\n",
    "y_pred=model.predict(x_test)\n",
    "from sklearn import metrics\n",
    "print('accuracy:',metrics.accuracy_score(y_test,y_pred))"
   ]
  },
  {
   "cell_type": "code",
   "execution_count": null,
   "id": "976d4cbd",
   "metadata": {},
   "outputs": [],
   "source": []
  }
 ],
 "metadata": {
  "kernelspec": {
   "display_name": "Python 3",
   "language": "python",
   "name": "python3"
  },
  "language_info": {
   "codemirror_mode": {
    "name": "ipython",
    "version": 3
   },
   "file_extension": ".py",
   "mimetype": "text/x-python",
   "name": "python",
   "nbconvert_exporter": "python",
   "pygments_lexer": "ipython3",
   "version": "3.10.7"
  },
  "vscode": {
   "interpreter": {
    "hash": "da69b0223f5ec2fa3002aba81a40c21a07de2ed8052824faa4c545e316506002"
   }
  }
 },
 "nbformat": 4,
 "nbformat_minor": 5
}
