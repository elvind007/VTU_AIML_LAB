{
 "cells": [
  {
   "cell_type": "code",
   "execution_count": null,
   "id": "ed9b2665",
   "metadata": {},
   "outputs": [],
   "source": [
    "# import necessary libraries\n",
    "import pandas as pd\n",
    "from sklearn import tree\n",
    "from sklearn.preprocessing import LabelEncoder\n",
    "from sklearn.naive_bayes import GaussianNB\n",
    "\n",
    "# Load Data from CSV\n",
    "data = pd.read_csv('tennis.csv')\n",
    "print(\"The first 5 Values of data is :\\n\", data.head())\n",
    "\n",
    "# obtain train data and train output\n",
    "X = data.iloc[:, :-1]\n",
    "print(\"\\nThe First 5 values of the train data is\\n\", X.head())\n",
    "\n",
    "y = data.iloc[:, -1]\n",
    "print(\"\\nThe First 5 values of train output is\\n\", y.head())\n",
    "\n",
    "# convert them in numbers\n",
    "le_outlook = LabelEncoder()\n",
    "X.Outlook = le_outlook.fit_transform(X.Outlook)\n",
    "\n",
    "le_Temperature = LabelEncoder()\n",
    "X.Temperature = le_Temperature.fit_transform(X.Temperature)\n",
    "\n",
    "le_Humidity = LabelEncoder()\n",
    "X.Humidity = le_Humidity.fit_transform(X.Humidity)\n",
    "\n",
    "le_Windy = LabelEncoder()\n",
    "X.Windy = le_Windy.fit_transform(X.Windy)\n",
    "\n",
    "print(\"\\nNow the Train output is\\n\", X.head())\n",
    "\n",
    "le_PlayTennis = LabelEncoder()\n",
    "y = le_PlayTennis.fit_transform(y)\n",
    "print(\"\\nNow the Train output is\\n\",y)\n",
    "\n",
    "from sklearn.model_selection import train_test_split\n",
    "X_train, X_test, y_train, y_test = train_test_split(X,y, test_size = 0.20)\n",
    "\n",
    "classifier = GaussianNB()\n",
    "classifier.fit(X_train, y_train)\n",
    "\n",
    "from sklearn.metrics import accuracy_score\n",
    "print(\"Accuracy is:\", accuracy_score(classifier.predict(X_test), y_test))"
   ]
  },
  {
   "cell_type": "code",
   "execution_count": null,
   "id": "976d4cbd",
   "metadata": {},
   "outputs": [],
   "source": []
  }
 ],
 "metadata": {
  "kernelspec": {
   "display_name": "Python 3",
   "language": "python",
   "name": "python3"
  },
  "language_info": {
   "codemirror_mode": {
    "name": "ipython",
    "version": 3
   },
   "file_extension": ".py",
   "mimetype": "text/x-python",
   "name": "python",
   "nbconvert_exporter": "python",
   "pygments_lexer": "ipython3",
   "version": "3.10.7"
  },
  "vscode": {
   "interpreter": {
    "hash": "da69b0223f5ec2fa3002aba81a40c21a07de2ed8052824faa4c545e316506002"
   }
  }
 },
 "nbformat": 4,
 "nbformat_minor": 5
}
